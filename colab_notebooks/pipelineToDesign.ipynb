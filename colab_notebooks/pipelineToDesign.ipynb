{
  "nbformat": 4,
  "nbformat_minor": 0,
  "metadata": {
    "colab": {
      "provenance": [],
      "authorship_tag": "ABX9TyNtLYjEoxPd4el1wv7x9Y+9",
      "include_colab_link": true
    },
    "kernelspec": {
      "name": "python3",
      "display_name": "Python 3"
    },
    "language_info": {
      "name": "python"
    }
  },
  "cells": [
    {
      "cell_type": "markdown",
      "metadata": {
        "id": "view-in-github",
        "colab_type": "text"
      },
      "source": [
        "<a href=\"https://colab.research.google.com/github/svetakvsundhar/professional-services/blob/main/colab_notebooks/pipelineToDesign.ipynb\" target=\"_parent\"><img src=\"https://colab.research.google.com/assets/colab-badge.svg\" alt=\"Open In Colab\"/></a>"
      ]
    },
    {
      "cell_type": "markdown",
      "source": [
        "**Welcome to the PipelineDesign Colab notebook!**\n",
        "\n",
        " This notebook will allow you to answer some questions and provide some code samples in order to generate a quick design of your current state pipeline architecture. Once you see the output, feel free to make any modifications to it and the Google PSO/partner teams will use it as a starting point for the engagement."
      ],
      "metadata": {
        "id": "oeSKMXKRN_Un"
      }
    },
    {
      "cell_type": "markdown",
      "source": [
        "**Optional:** Please upload your data pipeline\n",
        "\n",
        "\n"
      ],
      "metadata": {
        "id": "I-nFcIO7Olfx"
      }
    },
    {
      "cell_type": "code",
      "source": [
        "!pip install -q -U google-generativeai"
      ],
      "metadata": {
        "id": "uxgYkWyFQDdv",
        "colab": {
          "base_uri": "https://localhost:8080/"
        },
        "outputId": "24236b2a-410c-4502-9ab8-fe8f5042b34c"
      },
      "execution_count": 1,
      "outputs": [
        {
          "output_type": "stream",
          "name": "stdout",
          "text": [
            "\u001b[2K     \u001b[90m━━━━━━━━━━━━━━━━━━━━━━━━━━━━━━━━━━━━━━━━\u001b[0m \u001b[32m164.2/164.2 kB\u001b[0m \u001b[31m1.8 MB/s\u001b[0m eta \u001b[36m0:00:00\u001b[0m\n",
            "\u001b[2K     \u001b[90m━━━━━━━━━━━━━━━━━━━━━━━━━━━━━━━━━━━━━━━━\u001b[0m \u001b[32m718.3/718.3 kB\u001b[0m \u001b[31m7.4 MB/s\u001b[0m eta \u001b[36m0:00:00\u001b[0m\n",
            "\u001b[?25h"
          ]
        }
      ]
    },
    {
      "cell_type": "code",
      "source": [
        "import google.generativeai as genai"
      ],
      "metadata": {
        "id": "It8e_5vmZomW"
      },
      "execution_count": 2,
      "outputs": []
    },
    {
      "cell_type": "markdown",
      "source": [
        "**Configure your API key**\n",
        "\n",
        "\n",
        "To run the following cell, your API key must be stored it in a Colab Secret named GOOGLE_API_KEY. If you don't already have an API key, or you're not sure how to create a Colab Secret, see Authentication for an example."
      ],
      "metadata": {
        "id": "7unGqGCnaK9W"
      }
    },
    {
      "cell_type": "code",
      "execution_count": 3,
      "metadata": {
        "id": "fxzEXBeUN7zH"
      },
      "outputs": [],
      "source": [
        "from google.colab import userdata\n",
        "GOOGLE_API_KEY=userdata.get('GOOGLE_API_KEY')\n",
        "\n",
        "genai.configure(api_key=GOOGLE_API_KEY)"
      ]
    },
    {
      "cell_type": "markdown",
      "source": [
        "Upload your file onto this Colab Notebook (note, please use a *.txt* file). Then, replace **path_to_your_file.txt** with your actual path."
      ],
      "metadata": {
        "id": "MU1OxmZtI4vB"
      }
    },
    {
      "cell_type": "code",
      "source": [
        "your_file = genai.upload_file(path='#path_to_your_file.txt')"
      ],
      "metadata": {
        "id": "BlJaUSjuc6pJ"
      },
      "execution_count": 5,
      "outputs": []
    },
    {
      "cell_type": "markdown",
      "source": [
        "**Describe your architecture at a high level.** Modify the prompts below as needed."
      ],
      "metadata": {
        "id": "s1abIb2ybDpf"
      }
    },
    {
      "cell_type": "code",
      "source": [
        "your_architecture_description=\"This is an Apache Beam pipeline being executed on Dataflow Runner\""
      ],
      "metadata": {
        "id": "KnKT0so1d2Fo"
      },
      "execution_count": 6,
      "outputs": []
    },
    {
      "cell_type": "code",
      "source": [
        "design_img = \"Gemini, your role is to return a design description,from the code provided and the description.\""
      ],
      "metadata": {
        "id": "_xOVFKWidk4u"
      },
      "execution_count": 9,
      "outputs": []
    },
    {
      "cell_type": "code",
      "source": [
        "model = genai.GenerativeModel('models/gemini-1.5-pro-latest')\n",
        "prompt = model.generate_content(your_architecture_description + design_img)\n",
        "response = model.generate_content([prompt.text, your_file])\n",
        "print(response.text)"
      ],
      "metadata": {
        "id": "5t12JQfabCwU"
      },
      "execution_count": null,
      "outputs": []
    }
  ]
}